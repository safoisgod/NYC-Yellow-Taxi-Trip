{
 "cells": [
  {
   "cell_type": "markdown",
   "id": "545b48eb",
   "metadata": {},
   "source": [
    "# Yellow Taxi Trip Analysis (Jan 2025)\n",
    "\n",
    "This notebook analyzes NYC Yellow Taxi Trip data for January 2025, sourced from the NYC TLC. The analysis covers trip details such as pickup/dropoff times, distances, fares, passenger behavior, payment methods, and location zones. \n",
    "\n",
    "Refer to the data dictionary: `data_dictionary_trip_records_yellow.pdf` or [NYC TLC](http://www.nyc.gov/html/tlc/html/about/trip_record_data.shtml) for column definitions."
   ]
  },
  {
   "cell_type": "code",
   "execution_count": 1,
   "id": "119b47ae",
   "metadata": {},
   "outputs": [],
   "source": [
    "# Import libraries for data analysis and visualization\n",
    "import pandas as pd\n",
    "import matplotlib.pyplot as plt\n",
    "import numpy as np\n",
    "import seaborn as sns\n"
   ]
  },
  {
   "cell_type": "markdown",
   "id": "ed11faab",
   "metadata": {},
   "source": [
    "## 1. Data Loading and Initial Preview\n",
    "\n",
    "Load the dataset and display the first few rows to understand its structure."
   ]
  },
  {
   "cell_type": "code",
   "execution_count": 2,
   "id": "fc06e318",
   "metadata": {},
   "outputs": [
    {
     "data": {
      "application/vnd.microsoft.datawrangler.viewer.v0+json": {
       "columns": [
        {
         "name": "index",
         "rawType": "int64",
         "type": "integer"
        },
        {
         "name": "VendorID",
         "rawType": "int32",
         "type": "integer"
        },
        {
         "name": "tpep_pickup_datetime",
         "rawType": "datetime64[us]",
         "type": "unknown"
        },
        {
         "name": "tpep_dropoff_datetime",
         "rawType": "datetime64[us]",
         "type": "unknown"
        },
        {
         "name": "passenger_count",
         "rawType": "float64",
         "type": "float"
        },
        {
         "name": "trip_distance",
         "rawType": "float64",
         "type": "float"
        },
        {
         "name": "RatecodeID",
         "rawType": "float64",
         "type": "float"
        },
        {
         "name": "store_and_fwd_flag",
         "rawType": "object",
         "type": "string"
        },
        {
         "name": "PULocationID",
         "rawType": "int32",
         "type": "integer"
        },
        {
         "name": "DOLocationID",
         "rawType": "int32",
         "type": "integer"
        },
        {
         "name": "payment_type",
         "rawType": "int64",
         "type": "integer"
        },
        {
         "name": "fare_amount",
         "rawType": "float64",
         "type": "float"
        },
        {
         "name": "extra",
         "rawType": "float64",
         "type": "float"
        },
        {
         "name": "mta_tax",
         "rawType": "float64",
         "type": "float"
        },
        {
         "name": "tip_amount",
         "rawType": "float64",
         "type": "float"
        },
        {
         "name": "tolls_amount",
         "rawType": "float64",
         "type": "float"
        },
        {
         "name": "improvement_surcharge",
         "rawType": "float64",
         "type": "float"
        },
        {
         "name": "total_amount",
         "rawType": "float64",
         "type": "float"
        },
        {
         "name": "congestion_surcharge",
         "rawType": "float64",
         "type": "float"
        },
        {
         "name": "Airport_fee",
         "rawType": "float64",
         "type": "float"
        },
        {
         "name": "cbd_congestion_fee",
         "rawType": "float64",
         "type": "float"
        }
       ],
       "ref": "da71f00a-08d3-4ad6-836b-f84556362319",
       "rows": [
        [
         "0",
         "1",
         "2025-01-01 00:18:38",
         "2025-01-01 00:26:59",
         "1.0",
         "1.6",
         "1.0",
         "N",
         "229",
         "237",
         "1",
         "10.0",
         "3.5",
         "0.5",
         "3.0",
         "0.0",
         "1.0",
         "18.0",
         "2.5",
         "0.0",
         "0.0"
        ],
        [
         "1",
         "1",
         "2025-01-01 00:32:40",
         "2025-01-01 00:35:13",
         "1.0",
         "0.5",
         "1.0",
         "N",
         "236",
         "237",
         "1",
         "5.1",
         "3.5",
         "0.5",
         "2.02",
         "0.0",
         "1.0",
         "12.12",
         "2.5",
         "0.0",
         "0.0"
        ],
        [
         "2",
         "1",
         "2025-01-01 00:44:04",
         "2025-01-01 00:46:01",
         "1.0",
         "0.6",
         "1.0",
         "N",
         "141",
         "141",
         "1",
         "5.1",
         "3.5",
         "0.5",
         "2.0",
         "0.0",
         "1.0",
         "12.1",
         "2.5",
         "0.0",
         "0.0"
        ],
        [
         "3",
         "2",
         "2025-01-01 00:14:27",
         "2025-01-01 00:20:01",
         "3.0",
         "0.52",
         "1.0",
         "N",
         "244",
         "244",
         "2",
         "7.2",
         "1.0",
         "0.5",
         "0.0",
         "0.0",
         "1.0",
         "9.7",
         "0.0",
         "0.0",
         "0.0"
        ],
        [
         "4",
         "2",
         "2025-01-01 00:21:34",
         "2025-01-01 00:25:06",
         "3.0",
         "0.66",
         "1.0",
         "N",
         "244",
         "116",
         "2",
         "5.8",
         "1.0",
         "0.5",
         "0.0",
         "0.0",
         "1.0",
         "8.3",
         "0.0",
         "0.0",
         "0.0"
        ]
       ],
       "shape": {
        "columns": 20,
        "rows": 5
       }
      },
      "text/html": [
       "<div>\n",
       "<style scoped>\n",
       "    .dataframe tbody tr th:only-of-type {\n",
       "        vertical-align: middle;\n",
       "    }\n",
       "\n",
       "    .dataframe tbody tr th {\n",
       "        vertical-align: top;\n",
       "    }\n",
       "\n",
       "    .dataframe thead th {\n",
       "        text-align: right;\n",
       "    }\n",
       "</style>\n",
       "<table border=\"1\" class=\"dataframe\">\n",
       "  <thead>\n",
       "    <tr style=\"text-align: right;\">\n",
       "      <th></th>\n",
       "      <th>VendorID</th>\n",
       "      <th>tpep_pickup_datetime</th>\n",
       "      <th>tpep_dropoff_datetime</th>\n",
       "      <th>passenger_count</th>\n",
       "      <th>trip_distance</th>\n",
       "      <th>RatecodeID</th>\n",
       "      <th>store_and_fwd_flag</th>\n",
       "      <th>PULocationID</th>\n",
       "      <th>DOLocationID</th>\n",
       "      <th>payment_type</th>\n",
       "      <th>fare_amount</th>\n",
       "      <th>extra</th>\n",
       "      <th>mta_tax</th>\n",
       "      <th>tip_amount</th>\n",
       "      <th>tolls_amount</th>\n",
       "      <th>improvement_surcharge</th>\n",
       "      <th>total_amount</th>\n",
       "      <th>congestion_surcharge</th>\n",
       "      <th>Airport_fee</th>\n",
       "      <th>cbd_congestion_fee</th>\n",
       "    </tr>\n",
       "  </thead>\n",
       "  <tbody>\n",
       "    <tr>\n",
       "      <th>0</th>\n",
       "      <td>1</td>\n",
       "      <td>2025-01-01 00:18:38</td>\n",
       "      <td>2025-01-01 00:26:59</td>\n",
       "      <td>1.0</td>\n",
       "      <td>1.60</td>\n",
       "      <td>1.0</td>\n",
       "      <td>N</td>\n",
       "      <td>229</td>\n",
       "      <td>237</td>\n",
       "      <td>1</td>\n",
       "      <td>10.0</td>\n",
       "      <td>3.5</td>\n",
       "      <td>0.5</td>\n",
       "      <td>3.00</td>\n",
       "      <td>0.0</td>\n",
       "      <td>1.0</td>\n",
       "      <td>18.00</td>\n",
       "      <td>2.5</td>\n",
       "      <td>0.0</td>\n",
       "      <td>0.0</td>\n",
       "    </tr>\n",
       "    <tr>\n",
       "      <th>1</th>\n",
       "      <td>1</td>\n",
       "      <td>2025-01-01 00:32:40</td>\n",
       "      <td>2025-01-01 00:35:13</td>\n",
       "      <td>1.0</td>\n",
       "      <td>0.50</td>\n",
       "      <td>1.0</td>\n",
       "      <td>N</td>\n",
       "      <td>236</td>\n",
       "      <td>237</td>\n",
       "      <td>1</td>\n",
       "      <td>5.1</td>\n",
       "      <td>3.5</td>\n",
       "      <td>0.5</td>\n",
       "      <td>2.02</td>\n",
       "      <td>0.0</td>\n",
       "      <td>1.0</td>\n",
       "      <td>12.12</td>\n",
       "      <td>2.5</td>\n",
       "      <td>0.0</td>\n",
       "      <td>0.0</td>\n",
       "    </tr>\n",
       "    <tr>\n",
       "      <th>2</th>\n",
       "      <td>1</td>\n",
       "      <td>2025-01-01 00:44:04</td>\n",
       "      <td>2025-01-01 00:46:01</td>\n",
       "      <td>1.0</td>\n",
       "      <td>0.60</td>\n",
       "      <td>1.0</td>\n",
       "      <td>N</td>\n",
       "      <td>141</td>\n",
       "      <td>141</td>\n",
       "      <td>1</td>\n",
       "      <td>5.1</td>\n",
       "      <td>3.5</td>\n",
       "      <td>0.5</td>\n",
       "      <td>2.00</td>\n",
       "      <td>0.0</td>\n",
       "      <td>1.0</td>\n",
       "      <td>12.10</td>\n",
       "      <td>2.5</td>\n",
       "      <td>0.0</td>\n",
       "      <td>0.0</td>\n",
       "    </tr>\n",
       "    <tr>\n",
       "      <th>3</th>\n",
       "      <td>2</td>\n",
       "      <td>2025-01-01 00:14:27</td>\n",
       "      <td>2025-01-01 00:20:01</td>\n",
       "      <td>3.0</td>\n",
       "      <td>0.52</td>\n",
       "      <td>1.0</td>\n",
       "      <td>N</td>\n",
       "      <td>244</td>\n",
       "      <td>244</td>\n",
       "      <td>2</td>\n",
       "      <td>7.2</td>\n",
       "      <td>1.0</td>\n",
       "      <td>0.5</td>\n",
       "      <td>0.00</td>\n",
       "      <td>0.0</td>\n",
       "      <td>1.0</td>\n",
       "      <td>9.70</td>\n",
       "      <td>0.0</td>\n",
       "      <td>0.0</td>\n",
       "      <td>0.0</td>\n",
       "    </tr>\n",
       "    <tr>\n",
       "      <th>4</th>\n",
       "      <td>2</td>\n",
       "      <td>2025-01-01 00:21:34</td>\n",
       "      <td>2025-01-01 00:25:06</td>\n",
       "      <td>3.0</td>\n",
       "      <td>0.66</td>\n",
       "      <td>1.0</td>\n",
       "      <td>N</td>\n",
       "      <td>244</td>\n",
       "      <td>116</td>\n",
       "      <td>2</td>\n",
       "      <td>5.8</td>\n",
       "      <td>1.0</td>\n",
       "      <td>0.5</td>\n",
       "      <td>0.00</td>\n",
       "      <td>0.0</td>\n",
       "      <td>1.0</td>\n",
       "      <td>8.30</td>\n",
       "      <td>0.0</td>\n",
       "      <td>0.0</td>\n",
       "      <td>0.0</td>\n",
       "    </tr>\n",
       "  </tbody>\n",
       "</table>\n",
       "</div>"
      ],
      "text/plain": [
       "   VendorID tpep_pickup_datetime tpep_dropoff_datetime  passenger_count  \\\n",
       "0         1  2025-01-01 00:18:38   2025-01-01 00:26:59              1.0   \n",
       "1         1  2025-01-01 00:32:40   2025-01-01 00:35:13              1.0   \n",
       "2         1  2025-01-01 00:44:04   2025-01-01 00:46:01              1.0   \n",
       "3         2  2025-01-01 00:14:27   2025-01-01 00:20:01              3.0   \n",
       "4         2  2025-01-01 00:21:34   2025-01-01 00:25:06              3.0   \n",
       "\n",
       "   trip_distance  RatecodeID store_and_fwd_flag  PULocationID  DOLocationID  \\\n",
       "0           1.60         1.0                  N           229           237   \n",
       "1           0.50         1.0                  N           236           237   \n",
       "2           0.60         1.0                  N           141           141   \n",
       "3           0.52         1.0                  N           244           244   \n",
       "4           0.66         1.0                  N           244           116   \n",
       "\n",
       "   payment_type  fare_amount  extra  mta_tax  tip_amount  tolls_amount  \\\n",
       "0             1         10.0    3.5      0.5        3.00           0.0   \n",
       "1             1          5.1    3.5      0.5        2.02           0.0   \n",
       "2             1          5.1    3.5      0.5        2.00           0.0   \n",
       "3             2          7.2    1.0      0.5        0.00           0.0   \n",
       "4             2          5.8    1.0      0.5        0.00           0.0   \n",
       "\n",
       "   improvement_surcharge  total_amount  congestion_surcharge  Airport_fee  \\\n",
       "0                    1.0         18.00                   2.5          0.0   \n",
       "1                    1.0         12.12                   2.5          0.0   \n",
       "2                    1.0         12.10                   2.5          0.0   \n",
       "3                    1.0          9.70                   0.0          0.0   \n",
       "4                    1.0          8.30                   0.0          0.0   \n",
       "\n",
       "   cbd_congestion_fee  \n",
       "0                 0.0  \n",
       "1                 0.0  \n",
       "2                 0.0  \n",
       "3                 0.0  \n",
       "4                 0.0  "
      ]
     },
     "execution_count": 2,
     "metadata": {},
     "output_type": "execute_result"
    }
   ],
   "source": [
    "df = pd.read_parquet(r\"data\\yellow_tripdata_2025-01.parquet\", engine=\"pyarrow\")\n",
    "df.head()"
   ]
  },
  {
   "cell_type": "markdown",
   "id": "dadc4590",
   "metadata": {},
   "source": [
    "## 2. Data Inspection\n",
    "\n",
    "Check column types and counts."
   ]
  },
  {
   "cell_type": "code",
   "execution_count": 3,
   "id": "4004d3a6",
   "metadata": {},
   "outputs": [
    {
     "name": "stdout",
     "output_type": "stream",
     "text": [
      "<class 'pandas.core.frame.DataFrame'>\n",
      "RangeIndex: 3475226 entries, 0 to 3475225\n",
      "Data columns (total 20 columns):\n",
      " #   Column                 Dtype         \n",
      "---  ------                 -----         \n",
      " 0   VendorID               int32         \n",
      " 1   tpep_pickup_datetime   datetime64[us]\n",
      " 2   tpep_dropoff_datetime  datetime64[us]\n",
      " 3   passenger_count        float64       \n",
      " 4   trip_distance          float64       \n",
      " 5   RatecodeID             float64       \n",
      " 6   store_and_fwd_flag     object        \n",
      " 7   PULocationID           int32         \n",
      " 8   DOLocationID           int32         \n",
      " 9   payment_type           int64         \n",
      " 10  fare_amount            float64       \n",
      " 11  extra                  float64       \n",
      " 12  mta_tax                float64       \n",
      " 13  tip_amount             float64       \n",
      " 14  tolls_amount           float64       \n",
      " 15  improvement_surcharge  float64       \n",
      " 16  total_amount           float64       \n",
      " 17  congestion_surcharge   float64       \n",
      " 18  Airport_fee            float64       \n",
      " 19  cbd_congestion_fee     float64       \n",
      "dtypes: datetime64[us](2), float64(13), int32(3), int64(1), object(1)\n",
      "memory usage: 490.5+ MB\n"
     ]
    }
   ],
   "source": [
    "df.info()"
   ]
  },
  {
   "cell_type": "markdown",
   "id": "55516a3b",
   "metadata": {},
   "source": [
    "## 3. Data Cleaning\n",
    "\n",
    "Handle missing, duplicates, invalid, and outlier values."
   ]
  },
  {
   "cell_type": "markdown",
   "id": "f25a4d1d",
   "metadata": {},
   "source": [
    "### 3.1 Missing Values\n",
    "\n",
    "Assess missing data percentages."
   ]
  },
  {
   "cell_type": "code",
   "execution_count": 4,
   "id": "ecaf129a",
   "metadata": {},
   "outputs": [
    {
     "data": {
      "application/vnd.microsoft.datawrangler.viewer.v0+json": {
       "columns": [
        {
         "name": "index",
         "rawType": "object",
         "type": "string"
        },
        {
         "name": "Count",
         "rawType": "int64",
         "type": "integer"
        },
        {
         "name": "Percent",
         "rawType": "float64",
         "type": "float"
        }
       ],
       "ref": "305d7eac-7e02-431d-ad6f-35813cae1f53",
       "rows": [
        [
         "VendorID",
         "0",
         "0.0"
        ],
        [
         "tpep_pickup_datetime",
         "0",
         "0.0"
        ],
        [
         "tpep_dropoff_datetime",
         "0",
         "0.0"
        ],
        [
         "passenger_count",
         "540149",
         "15.54"
        ],
        [
         "trip_distance",
         "0",
         "0.0"
        ],
        [
         "RatecodeID",
         "540149",
         "15.54"
        ],
        [
         "store_and_fwd_flag",
         "540149",
         "15.54"
        ],
        [
         "PULocationID",
         "0",
         "0.0"
        ],
        [
         "DOLocationID",
         "0",
         "0.0"
        ],
        [
         "payment_type",
         "0",
         "0.0"
        ],
        [
         "fare_amount",
         "0",
         "0.0"
        ],
        [
         "extra",
         "0",
         "0.0"
        ],
        [
         "mta_tax",
         "0",
         "0.0"
        ],
        [
         "tip_amount",
         "0",
         "0.0"
        ],
        [
         "tolls_amount",
         "0",
         "0.0"
        ],
        [
         "improvement_surcharge",
         "0",
         "0.0"
        ],
        [
         "total_amount",
         "0",
         "0.0"
        ],
        [
         "congestion_surcharge",
         "540149",
         "15.54"
        ],
        [
         "Airport_fee",
         "540149",
         "15.54"
        ],
        [
         "cbd_congestion_fee",
         "0",
         "0.0"
        ]
       ],
       "shape": {
        "columns": 2,
        "rows": 20
       }
      },
      "text/html": [
       "<div>\n",
       "<style scoped>\n",
       "    .dataframe tbody tr th:only-of-type {\n",
       "        vertical-align: middle;\n",
       "    }\n",
       "\n",
       "    .dataframe tbody tr th {\n",
       "        vertical-align: top;\n",
       "    }\n",
       "\n",
       "    .dataframe thead th {\n",
       "        text-align: right;\n",
       "    }\n",
       "</style>\n",
       "<table border=\"1\" class=\"dataframe\">\n",
       "  <thead>\n",
       "    <tr style=\"text-align: right;\">\n",
       "      <th></th>\n",
       "      <th>Count</th>\n",
       "      <th>Percent</th>\n",
       "    </tr>\n",
       "  </thead>\n",
       "  <tbody>\n",
       "    <tr>\n",
       "      <th>VendorID</th>\n",
       "      <td>0</td>\n",
       "      <td>0.00</td>\n",
       "    </tr>\n",
       "    <tr>\n",
       "      <th>tpep_pickup_datetime</th>\n",
       "      <td>0</td>\n",
       "      <td>0.00</td>\n",
       "    </tr>\n",
       "    <tr>\n",
       "      <th>tpep_dropoff_datetime</th>\n",
       "      <td>0</td>\n",
       "      <td>0.00</td>\n",
       "    </tr>\n",
       "    <tr>\n",
       "      <th>passenger_count</th>\n",
       "      <td>540149</td>\n",
       "      <td>15.54</td>\n",
       "    </tr>\n",
       "    <tr>\n",
       "      <th>trip_distance</th>\n",
       "      <td>0</td>\n",
       "      <td>0.00</td>\n",
       "    </tr>\n",
       "    <tr>\n",
       "      <th>RatecodeID</th>\n",
       "      <td>540149</td>\n",
       "      <td>15.54</td>\n",
       "    </tr>\n",
       "    <tr>\n",
       "      <th>store_and_fwd_flag</th>\n",
       "      <td>540149</td>\n",
       "      <td>15.54</td>\n",
       "    </tr>\n",
       "    <tr>\n",
       "      <th>PULocationID</th>\n",
       "      <td>0</td>\n",
       "      <td>0.00</td>\n",
       "    </tr>\n",
       "    <tr>\n",
       "      <th>DOLocationID</th>\n",
       "      <td>0</td>\n",
       "      <td>0.00</td>\n",
       "    </tr>\n",
       "    <tr>\n",
       "      <th>payment_type</th>\n",
       "      <td>0</td>\n",
       "      <td>0.00</td>\n",
       "    </tr>\n",
       "    <tr>\n",
       "      <th>fare_amount</th>\n",
       "      <td>0</td>\n",
       "      <td>0.00</td>\n",
       "    </tr>\n",
       "    <tr>\n",
       "      <th>extra</th>\n",
       "      <td>0</td>\n",
       "      <td>0.00</td>\n",
       "    </tr>\n",
       "    <tr>\n",
       "      <th>mta_tax</th>\n",
       "      <td>0</td>\n",
       "      <td>0.00</td>\n",
       "    </tr>\n",
       "    <tr>\n",
       "      <th>tip_amount</th>\n",
       "      <td>0</td>\n",
       "      <td>0.00</td>\n",
       "    </tr>\n",
       "    <tr>\n",
       "      <th>tolls_amount</th>\n",
       "      <td>0</td>\n",
       "      <td>0.00</td>\n",
       "    </tr>\n",
       "    <tr>\n",
       "      <th>improvement_surcharge</th>\n",
       "      <td>0</td>\n",
       "      <td>0.00</td>\n",
       "    </tr>\n",
       "    <tr>\n",
       "      <th>total_amount</th>\n",
       "      <td>0</td>\n",
       "      <td>0.00</td>\n",
       "    </tr>\n",
       "    <tr>\n",
       "      <th>congestion_surcharge</th>\n",
       "      <td>540149</td>\n",
       "      <td>15.54</td>\n",
       "    </tr>\n",
       "    <tr>\n",
       "      <th>Airport_fee</th>\n",
       "      <td>540149</td>\n",
       "      <td>15.54</td>\n",
       "    </tr>\n",
       "    <tr>\n",
       "      <th>cbd_congestion_fee</th>\n",
       "      <td>0</td>\n",
       "      <td>0.00</td>\n",
       "    </tr>\n",
       "  </tbody>\n",
       "</table>\n",
       "</div>"
      ],
      "text/plain": [
       "                        Count  Percent\n",
       "VendorID                    0     0.00\n",
       "tpep_pickup_datetime        0     0.00\n",
       "tpep_dropoff_datetime       0     0.00\n",
       "passenger_count        540149    15.54\n",
       "trip_distance               0     0.00\n",
       "RatecodeID             540149    15.54\n",
       "store_and_fwd_flag     540149    15.54\n",
       "PULocationID                0     0.00\n",
       "DOLocationID                0     0.00\n",
       "payment_type                0     0.00\n",
       "fare_amount                 0     0.00\n",
       "extra                       0     0.00\n",
       "mta_tax                     0     0.00\n",
       "tip_amount                  0     0.00\n",
       "tolls_amount                0     0.00\n",
       "improvement_surcharge       0     0.00\n",
       "total_amount                0     0.00\n",
       "congestion_surcharge   540149    15.54\n",
       "Airport_fee            540149    15.54\n",
       "cbd_congestion_fee          0     0.00"
      ]
     },
     "execution_count": 4,
     "metadata": {},
     "output_type": "execute_result"
    }
   ],
   "source": [
    "missing = df.isnull().sum()\n",
    "missing_pct = (missing / len(df) * 100).round(2)\n",
    "pd.DataFrame({\"Count\": missing, \"Percent\": missing_pct})"
   ]
  },
  {
   "cell_type": "markdown",
   "id": "d1a76a84",
   "metadata": {},
   "source": [
    "**Note:** `passenger_count` and `RatecodeID` have ~15% missing—consider imputation later."
   ]
  },
  {
   "cell_type": "markdown",
   "id": "a189bbd5",
   "metadata": {},
   "source": [
    "### 3.2 Duplicates"
   ]
  },
  {
   "cell_type": "code",
   "execution_count": 5,
   "id": "0a589eec",
   "metadata": {},
   "outputs": [
    {
     "name": "stdout",
     "output_type": "stream",
     "text": [
      "Duplicates found: 0\n"
     ]
    }
   ],
   "source": [
    "print(f\"Duplicates found: {df.duplicated().sum()}\")"
   ]
  },
  {
   "cell_type": "markdown",
   "id": "7809da04",
   "metadata": {},
   "source": [
    "### 3.3 Negative Values\n",
    "\n",
    "Remove rows with any negative numeric values."
   ]
  },
  {
   "cell_type": "code",
   "execution_count": 6,
   "id": "3121f7c0",
   "metadata": {},
   "outputs": [
    {
     "name": "stdout",
     "output_type": "stream",
     "text": [
      "fare_amount: 144118 negative values\n",
      "extra: 29596 negative values\n",
      "mta_tax: 57140 negative values\n",
      "tip_amount: 124 negative values\n",
      "tolls_amount: 4559 negative values\n",
      "improvement_surcharge: 59530 negative values\n",
      "total_amount: 63037 negative values\n",
      "congestion_surcharge: 48321 negative values\n",
      "Airport_fee: 10411 negative values\n",
      "cbd_congestion_fee: 6553 negative values\n"
     ]
    }
   ],
   "source": [
    "numeric_cols = df.select_dtypes(include=[np.number]).columns\n",
    "for col in numeric_cols:\n",
    "    neg = (df[col] < 0).sum()\n",
    "    if neg:\n",
    "        print(f\"{col}: {neg} negative values\")\n",
    "df = df[(df[numeric_cols] >= 0).all(axis=1)]"
   ]
  },
  {
   "cell_type": "markdown",
   "id": "9977244a",
   "metadata": {},
   "source": [
    "### 3.4 Zero Values\n",
    "\n",
    "Filter out rows where key fields are zero."
   ]
  },
  {
   "cell_type": "code",
   "execution_count": 7,
   "id": "23c09070",
   "metadata": {},
   "outputs": [],
   "source": [
    "non_zero_cols = ['fare_amount', 'trip_distance', 'total_amount']\n",
    "df = df[(df[non_zero_cols] > 0).all(axis=1)]"
   ]
  },
  {
   "cell_type": "markdown",
   "id": "aa70ec18",
   "metadata": {},
   "source": [
    "### 3.5 Outlier Handling "
   ]
  },
  {
   "cell_type": "code",
   "execution_count": 8,
   "id": "e6445e92",
   "metadata": {},
   "outputs": [
    {
     "name": "stdout",
     "output_type": "stream",
     "text": [
      "Capped 'tip_amount' at 15.00\n",
      "Capped 'extra' at 8.00\n",
      "Capped 'tolls_amount' at 10.00\n",
      "Capped 'trip_distance' at 15.00\n",
      "Capped 'fare_amount' using IQR bounds (0.00, 34.85)\n",
      "Skipped 'congestion_surcharge' (IQR=0)\n",
      "Skipped 'Airport_fee' (IQR=0)\n",
      "Capped 'cbd_congestion_fee' using IQR bounds (0.00, 1.88)\n"
     ]
    }
   ],
   "source": [
    "# Data-driven cap values\n",
    "caps = {\n",
    "    \"tip_amount\": 15.0,\n",
    "    \"extra\": 8.0,\n",
    "    \"tolls_amount\": 10.0,\n",
    "    \"trip_distance\" : 15.0\n",
    "}\n",
    "\n",
    "# Columns to cap using IQR else\n",
    "iqr_cols = [ \"fare_amount\", \"congestion_surcharge\", \"Airport_fee\", \"cbd_congestion_fee\"]\n",
    "\n",
    "# Apply caps\n",
    "for col, cap in caps.items():\n",
    "    df[col] = df[col].clip(lower=0, upper=cap)\n",
    "    print(f\"Capped '{col}' at {cap:.2f}\")\n",
    "\n",
    "# Apply IQR-based capping for other numeric fields\n",
    "for col in iqr_cols:\n",
    "    Q1 = df[col].quantile(0.25)\n",
    "    Q3 = df[col].quantile(0.75)\n",
    "    IQR = Q3 - Q1\n",
    "    if IQR == 0:\n",
    "        print(f\"Skipped '{col}' (IQR=0)\")\n",
    "        continue\n",
    "    lower = max(Q1 - 1.5 * IQR, 0)\n",
    "    upper = Q3 + 1.5 * IQR\n",
    "    df[col] = df[col].clip(lower=lower, upper=upper)\n",
    "    print(f\"Capped '{col}' using IQR bounds ({lower:.2f}, {upper:.2f})\")\n",
    "\n",
    "# Recalculate derived field\n",
    "df['total_amount'] = (\n",
    "    df['fare_amount'] + df['extra'] + df['mta_tax'] +\n",
    "    df['tip_amount'] + df['tolls_amount'] +\n",
    "    df['improvement_surcharge'] + df['congestion_surcharge'] +\n",
    "    df['Airport_fee'] + df['cbd_congestion_fee']\n",
    ")"
   ]
  },
  {
   "cell_type": "markdown",
   "id": "597c722a",
   "metadata": {},
   "source": [
    "### 3.6 Categorical Mapping\n",
    "\n",
    "Convert numeric codes into meaningful strings."
   ]
  },
  {
   "cell_type": "code",
   "execution_count": 9,
   "id": "d51356ee",
   "metadata": {},
   "outputs": [],
   "source": [
    "vendor_dict = {1: 'Creative Mobile', 2: 'Curb Mobility', 6: 'Myle Tech', 7: 'Helix'}\n",
    "ratecode_dict = {1: 'Standard', 2: 'JFK', 3: 'Newark', 4: 'Nassau/Westchester', 5: 'Negotiated', 6: 'Group', 99: 'Unknown'}\n",
    "payment_dict = {0: 'Flex Fare', 1: 'Credit', 2: 'Cash', 3: 'No charge', 4: 'Dispute', 5: 'Unknown', 6: 'Voided'}\n",
    "df['VendorID'] = df['VendorID'].map(vendor_dict)\n",
    "df['RatecodeID'] = df['RatecodeID'].map(ratecode_dict)\n",
    "df['payment_type'] = df['payment_type'].map(payment_dict)"
   ]
  },
  {
   "cell_type": "markdown",
   "id": "728a887b",
   "metadata": {},
   "source": [
    "## 4. Feature Engineering\n",
    "\n",
    "Create new columns for trip duration, day/hour information, and speed."
   ]
  },
  {
   "cell_type": "code",
   "execution_count": 10,
   "id": "1d577b0e",
   "metadata": {},
   "outputs": [
    {
     "name": "stdout",
     "output_type": "stream",
     "text": [
      "Unrealistic speed trips: 4499\n",
      "Avg speed (mph): 11.07\n"
     ]
    }
   ],
   "source": [
    "df['trip_duration'] = (df['tpep_dropoff_datetime'] - df['tpep_pickup_datetime']).dt.total_seconds() / 60\n",
    "df['day_of_week'] = df['tpep_pickup_datetime'].dt.day_name()\n",
    "df['hour_of_day'] = df['tpep_pickup_datetime'].dt.hour\n",
    "day_order = ['Monday', 'Tuesday', 'Wednesday', 'Thursday', 'Friday', 'Saturday', 'Sunday']\n",
    "\n",
    "# New: average speed (mph)\n",
    "df['avg_speed_mph'] = df['trip_distance'] / (df['trip_duration'] / 60)\n",
    "# Flag unrealistic speeds\n",
    "speed_outliers = df[(df['avg_speed_mph'] > 100) | (df['avg_speed_mph'] < 1)]\n",
    "print(f\"Unrealistic speed trips: {len(speed_outliers)}\")\n",
    "# Optionally remove them\n",
    "df = df[(df['avg_speed_mph'] <= 100) & (df['avg_speed_mph'] >= 1)]\n",
    "print(f\"Avg speed (mph): {df['avg_speed_mph'].mean().round(2)}\")"
   ]
  },
  {
   "cell_type": "markdown",
   "id": "62d877ec",
   "metadata": {},
   "source": [
    "## 5. Location Zone Analysis (NEW)\n",
    "\n",
    "Map pickup/dropoff IDs to boroughs and zones, then explore hotspots."
   ]
  },
  {
   "cell_type": "code",
   "execution_count": 11,
   "id": "ed0f80f7",
   "metadata": {},
   "outputs": [
    {
     "name": "stdout",
     "output_type": "stream",
     "text": [
      "PU_Zone\n",
      "Upper East Side South           149320\n",
      "Midtown Center                  147881\n",
      "Upper East Side North           139026\n",
      "JFK Airport                     133997\n",
      "Penn Station/Madison Sq West    109104\n",
      "Times Sq/Theatre District       108236\n",
      "Midtown East                    105845\n",
      "Lincoln Square East              98493\n",
      "LaGuardia Airport                85785\n",
      "Midtown North                    85276\n",
      "Name: count, dtype: int64\n"
     ]
    },
    {
     "name": "stderr",
     "output_type": "stream",
     "text": [
      "C:\\Users\\Hp 745 - G6\\AppData\\Local\\Temp\\ipykernel_10140\\824143655.py:10: FutureWarning: \n",
      "\n",
      "Passing `palette` without assigning `hue` is deprecated and will be removed in v0.14.0. Assign the `y` variable to `hue` and set `legend=False` for the same effect.\n",
      "\n",
      "  sns.barplot(x=top_pu_zones.values, y=top_pu_zones.index, palette='crest')\n"
     ]
    },
    {
     "data": {
      "image/png": "[encoded data removed]",
      "text/plain": [
       "<Figure size 1000x500 with 1 Axes>"
      ]
     },
     "metadata": {},
     "output_type": "display_data"
    },
    {
     "name": "stdout",
     "output_type": "stream",
     "text": [
      "PU_Borough\n",
      "Manhattan        2552641\n",
      "Queens            245465\n",
      "Brooklyn           23894\n",
      "Unknown             7440\n",
      "Bronx               5868\n",
      "EWR                   73\n",
      "Staten Island         70\n",
      "Name: count, dtype: int64\n"
     ]
    },
    {
     "data": {
      "image/png": "[encoded data removed]",
      "text/plain": [
       "<Figure size 600x600 with 1 Axes>"
      ]
     },
     "metadata": {},
     "output_type": "display_data"
    }
   ],
   "source": [
    "zone_lookup = pd.read_csv(r'data\\taxi_zone_lookup.csv')\n",
    "df = df.merge(zone_lookup.rename(columns={'LocationID':'PULocationID','Zone':'PU_Zone','Borough':'PU_Borough'}), on='PULocationID', how='left')\n",
    "df = df.merge(zone_lookup.rename(columns={'LocationID':'DOLocationID','Zone':'DO_Zone','Borough':'DO_Borough'}), on='DOLocationID', how='left')\n",
    "\n",
    "# Top 10 pickup zones by frequency\n",
    "top_pu_zones = df['PU_Zone'].value_counts().head(10)\n",
    "print(top_pu_zones)\n",
    "\n",
    "plt.figure(figsize=(10,5))\n",
    "sns.barplot(x=top_pu_zones.values, y=top_pu_zones.index, palette='crest')\n",
    "plt.title('Top 10 Pickup Zones (Jan 2025)')\n",
    "plt.xlabel('Number of Trips')\n",
    "plt.ylabel('Pickup Zone')\n",
    "plt.show()\n",
    "\n",
    "# Borough pickup distribution\n",
    "borough_counts = df['PU_Borough'].value_counts()\n",
    "print(borough_counts)\n",
    "\n",
    "plt.figure(figsize=(6,6))\n",
    "plt.pie(borough_counts, labels=borough_counts.index, autopct='%1.1f%%', startangle=140)\n",
    "plt.title('Pickup Distribution by Borough (Jan 2025)')\n",
    "plt.axis('equal')\n",
    "plt.show()"
   ]
  },
  {
   "cell_type": "markdown",
   "id": "95b93730",
   "metadata": {},
   "source": [
    "## 6. Exploratory Data Analysis (EDA)\n",
    "\n",
    "Analyze the cleaned and enriched dataset."
   ]
  },
  {
   "cell_type": "markdown",
   "id": "3f252172",
   "metadata": {},
   "source": [
    "### 6.1 Statistical Summary"
   ]
  },
  {
   "cell_type": "code",
   "execution_count": 12,
   "id": "eb8f9587",
   "metadata": {},
   "outputs": [
    {
     "data": {
      "application/vnd.microsoft.datawrangler.viewer.v0+json": {
       "columns": [
        {
         "name": "index",
         "rawType": "object",
         "type": "string"
        },
        {
         "name": "tpep_pickup_datetime",
         "rawType": "object",
         "type": "unknown"
        },
        {
         "name": "tpep_dropoff_datetime",
         "rawType": "object",
         "type": "unknown"
        },
        {
         "name": "passenger_count",
         "rawType": "float64",
         "type": "float"
        },
        {
         "name": "trip_distance",
         "rawType": "float64",
         "type": "float"
        },
        {
         "name": "PULocationID",
         "rawType": "float64",
         "type": "float"
        },
        {
         "name": "DOLocationID",
         "rawType": "float64",
         "type": "float"
        },
        {
         "name": "fare_amount",
         "rawType": "float64",
         "type": "float"
        },
        {
         "name": "extra",
         "rawType": "float64",
         "type": "float"
        },
        {
         "name": "mta_tax",
         "rawType": "float64",
         "type": "float"
        },
        {
         "name": "tip_amount",
         "rawType": "float64",
         "type": "float"
        },
        {
         "name": "tolls_amount",
         "rawType": "float64",
         "type": "float"
        },
        {
         "name": "improvement_surcharge",
         "rawType": "float64",
         "type": "float"
        },
        {
         "name": "total_amount",
         "rawType": "float64",
         "type": "float"
        },
        {
         "name": "congestion_surcharge",
         "rawType": "float64",
         "type": "float"
        },
        {
         "name": "Airport_fee",
         "rawType": "float64",
         "type": "float"
        },
        {
         "name": "cbd_congestion_fee",
         "rawType": "float64",
         "type": "float"
        },
        {
         "name": "trip_duration",
         "rawType": "float64",
         "type": "float"
        },
        {
         "name": "hour_of_day",
         "rawType": "float64",
         "type": "float"
        },
        {
         "name": "avg_speed_mph",
         "rawType": "float64",
         "type": "float"
        }
       ],
       "ref": "3bdbafa3-6d3d-4b10-8c1e-f97c60fd944e",
       "rows": [
        [
         "count",
         "2835971",
         "2835971",
         "2835971.0",
         "2835971.0",
         "2835971.0",
         "2835971.0",
         "2835971.0",
         "2835971.0",
         "2835971.0",
         "2835971.0",
         "2835971.0",
         "2835971.0",
         "2835971.0",
         "2835971.0",
         "2835971.0",
         "2835971.0",
         "2835971.0",
         "2835971.0",
         "2835971.0"
        ],
        [
         "mean",
         "2025-01-17 02:32:57.628319",
         "2025-01-17 02:47:33.780492",
         "1.2957466772403525",
         "2.9962922998860004",
         "167.08131782729797",
         "166.16539485065258",
         "15.399004058927261",
         "1.6016599993441403",
         "0.4957699673233612",
         "3.400442317640061",
         "0.48950615856085977",
         "0.9873299127529865",
         "25.320285034649505",
         "2.3264976969087483",
         "0.13250012076992324",
         "0.4875748024221686",
         "14.602536209526356",
         "14.384276496480394",
         "11.070183145166729"
        ],
        [
         "min",
         "2024-12-31 20:47:55",
         "2024-12-31 20:54:00",
         "0.0",
         "0.01",
         "1.0",
         "1.0",
         "0.01",
         "0.0",
         "0.0",
         "0.0",
         "0.0",
         "0.0",
         "1.01",
         "0.0",
         "0.0",
         "0.0",
         "0.03333333333333333",
         "0.0",
         "1.0"
        ],
        [
         "25%",
         "2025-01-09 16:24:50",
         "2025-01-09 16:41:40",
         "1.0",
         "0.99",
         "132.0",
         "116.0",
         "8.6",
         "0.0",
         "0.5",
         "1.34",
         "0.0",
         "1.0",
         "16.5",
         "2.5",
         "0.0",
         "0.0",
         "7.066666666666666",
         "11.0",
         "7.306273062730628"
        ],
        [
         "50%",
         "2025-01-16 21:10:43",
         "2025-01-16 21:24:13",
         "1.0",
         "1.63",
         "162.0",
         "163.0",
         "12.1",
         "1.0",
         "0.5",
         "2.89",
         "0.0",
         "1.0",
         "21.060000000000002",
         "2.5",
         "0.0",
         "0.75",
         "11.35",
         "15.0",
         "9.513212795549373"
        ],
        [
         "75%",
         "2025-01-24 17:32:55",
         "2025-01-24 17:48:37",
         "1.0",
         "3.0",
         "234.0",
         "236.0",
         "19.1",
         "2.5",
         "0.5",
         "4.26",
         "0.0",
         "1.0",
         "29.1",
         "2.5",
         "0.0",
         "0.75",
         "18.116666666666667",
         "19.0",
         "12.861435726210352"
        ],
        [
         "max",
         "2025-02-01 00:00:44",
         "2025-02-01 01:10:26",
         "9.0",
         "15.0",
         "265.0",
         "265.0",
         "34.85000000000001",
         "8.0",
         "6.5",
         "15.0",
         "10.0",
         "1.0",
         "74.35000000000001",
         "2.5",
         "1.75",
         "0.75",
         "872.1833333333333",
         "23.0",
         "99.31034482758622"
        ],
        [
         "std",
         null,
         null,
         "0.7485473696514231",
         "3.5781971026193107",
         "62.94502622590094",
         "68.84984713783564",
         "9.131801588965343",
         "1.8485827705785665",
         "0.046176086203086796",
         "3.2748896847466917",
         "1.8142809687138601",
         "0.11184614676956524",
         "13.162474477015442",
         "0.6353368011404414",
         "0.46294576845654506",
         "0.35770373072854983",
         "12.10918996384402",
         "5.524342501763159",
         "5.955561183478626"
        ]
       ],
       "shape": {
        "columns": 19,
        "rows": 8
       }
      },
      "text/html": [
       "<div>\n",
       "<style scoped>\n",
       "    .dataframe tbody tr th:only-of-type {\n",
       "        vertical-align: middle;\n",
       "    }\n",
       "\n",
       "    .dataframe tbody tr th {\n",
       "        vertical-align: top;\n",
       "    }\n",
       "\n",
       "    .dataframe thead th {\n",
       "        text-align: right;\n",
       "    }\n",
       "</style>\n",
       "<table border=\"1\" class=\"dataframe\">\n",
       "  <thead>\n",
       "    <tr style=\"text-align: right;\">\n",
       "      <th></th>\n",
       "      <th>tpep_pickup_datetime</th>\n",
       "      <th>tpep_dropoff_datetime</th>\n",
       "      <th>passenger_count</th>\n",
       "      <th>trip_distance</th>\n",
       "      <th>PULocationID</th>\n",
       "      <th>DOLocationID</th>\n",
       "      <th>fare_amount</th>\n",
       "      <th>extra</th>\n",
       "      <th>mta_tax</th>\n",
       "      <th>tip_amount</th>\n",
       "      <th>tolls_amount</th>\n",
       "      <th>improvement_surcharge</th>\n",
       "      <th>total_amount</th>\n",
       "      <th>congestion_surcharge</th>\n",
       "      <th>Airport_fee</th>\n",
       "      <th>cbd_congestion_fee</th>\n",
       "      <th>trip_duration</th>\n",
       "      <th>hour_of_day</th>\n",
       "      <th>avg_speed_mph</th>\n",
       "    </tr>\n",
       "  </thead>\n",
       "  <tbody>\n",
       "    <tr>\n",
       "      <th>count</th>\n",
       "      <td>2835971</td>\n",
       "      <td>2835971</td>\n",
       "      <td>2.835971e+06</td>\n",
       "      <td>2.835971e+06</td>\n",
       "      <td>2.835971e+06</td>\n",
       "      <td>2.835971e+06</td>\n",
       "      <td>2.835971e+06</td>\n",
       "      <td>2.835971e+06</td>\n",
       "      <td>2.835971e+06</td>\n",
       "      <td>2.835971e+06</td>\n",
       "      <td>2.835971e+06</td>\n",
       "      <td>2.835971e+06</td>\n",
       "      <td>2.835971e+06</td>\n",
       "      <td>2.835971e+06</td>\n",
       "      <td>2.835971e+06</td>\n",
       "      <td>2.835971e+06</td>\n",
       "      <td>2.835971e+06</td>\n",
       "      <td>2.835971e+06</td>\n",
       "      <td>2.835971e+06</td>\n",
       "    </tr>\n",
       "    <tr>\n",
       "      <th>mean</th>\n",
       "      <td>2025-01-17 02:32:57.628319</td>\n",
       "      <td>2025-01-17 02:47:33.780492</td>\n",
       "      <td>1.295747e+00</td>\n",
       "      <td>2.996292e+00</td>\n",
       "      <td>1.670813e+02</td>\n",
       "      <td>1.661654e+02</td>\n",
       "      <td>1.539900e+01</td>\n",
       "      <td>1.601660e+00</td>\n",
       "      <td>4.957700e-01</td>\n",
       "      <td>3.400442e+00</td>\n",
       "      <td>4.895062e-01</td>\n",
       "      <td>9.873299e-01</td>\n",
       "      <td>2.532029e+01</td>\n",
       "      <td>2.326498e+00</td>\n",
       "      <td>1.325001e-01</td>\n",
       "      <td>4.875748e-01</td>\n",
       "      <td>1.460254e+01</td>\n",
       "      <td>1.438428e+01</td>\n",
       "      <td>1.107018e+01</td>\n",
       "    </tr>\n",
       "    <tr>\n",
       "      <th>min</th>\n",
       "      <td>2024-12-31 20:47:55</td>\n",
       "      <td>2024-12-31 20:54:00</td>\n",
       "      <td>0.000000e+00</td>\n",
       "      <td>1.000000e-02</td>\n",
       "      <td>1.000000e+00</td>\n",
       "      <td>1.000000e+00</td>\n",
       "      <td>1.000000e-02</td>\n",
       "      <td>0.000000e+00</td>\n",
       "      <td>0.000000e+00</td>\n",
       "      <td>0.000000e+00</td>\n",
       "      <td>0.000000e+00</td>\n",
       "      <td>0.000000e+00</td>\n",
       "      <td>1.010000e+00</td>\n",
       "      <td>0.000000e+00</td>\n",
       "      <td>0.000000e+00</td>\n",
       "      <td>0.000000e+00</td>\n",
       "      <td>3.333333e-02</td>\n",
       "      <td>0.000000e+00</td>\n",
       "      <td>1.000000e+00</td>\n",
       "    </tr>\n",
       "    <tr>\n",
       "      <th>25%</th>\n",
       "      <td>2025-01-09 16:24:50</td>\n",
       "      <td>2025-01-09 16:41:40</td>\n",
       "      <td>1.000000e+00</td>\n",
       "      <td>9.900000e-01</td>\n",
       "      <td>1.320000e+02</td>\n",
       "      <td>1.160000e+02</td>\n",
       "      <td>8.600000e+00</td>\n",
       "      <td>0.000000e+00</td>\n",
       "      <td>5.000000e-01</td>\n",
       "      <td>1.340000e+00</td>\n",
       "      <td>0.000000e+00</td>\n",
       "      <td>1.000000e+00</td>\n",
       "      <td>1.650000e+01</td>\n",
       "      <td>2.500000e+00</td>\n",
       "      <td>0.000000e+00</td>\n",
       "      <td>0.000000e+00</td>\n",
       "      <td>7.066667e+00</td>\n",
       "      <td>1.100000e+01</td>\n",
       "      <td>7.306273e+00</td>\n",
       "    </tr>\n",
       "    <tr>\n",
       "      <th>50%</th>\n",
       "      <td>2025-01-16 21:10:43</td>\n",
       "      <td>2025-01-16 21:24:13</td>\n",
       "      <td>1.000000e+00</td>\n",
       "      <td>1.630000e+00</td>\n",
       "      <td>1.620000e+02</td>\n",
       "      <td>1.630000e+02</td>\n",
       "      <td>1.210000e+01</td>\n",
       "      <td>1.000000e+00</td>\n",
       "      <td>5.000000e-01</td>\n",
       "      <td>2.890000e+00</td>\n",
       "      <td>0.000000e+00</td>\n",
       "      <td>1.000000e+00</td>\n",
       "      <td>2.106000e+01</td>\n",
       "      <td>2.500000e+00</td>\n",
       "      <td>0.000000e+00</td>\n",
       "      <td>7.500000e-01</td>\n",
       "      <td>1.135000e+01</td>\n",
       "      <td>1.500000e+01</td>\n",
       "      <td>9.513213e+00</td>\n",
       "    </tr>\n",
       "    <tr>\n",
       "      <th>75%</th>\n",
       "      <td>2025-01-24 17:32:55</td>\n",
       "      <td>2025-01-24 17:48:37</td>\n",
       "      <td>1.000000e+00</td>\n",
       "      <td>3.000000e+00</td>\n",
       "      <td>2.340000e+02</td>\n",
       "      <td>2.360000e+02</td>\n",
       "      <td>1.910000e+01</td>\n",
       "      <td>2.500000e+00</td>\n",
       "      <td>5.000000e-01</td>\n",
       "      <td>4.260000e+00</td>\n",
       "      <td>0.000000e+00</td>\n",
       "      <td>1.000000e+00</td>\n",
       "      <td>2.910000e+01</td>\n",
       "      <td>2.500000e+00</td>\n",
       "      <td>0.000000e+00</td>\n",
       "      <td>7.500000e-01</td>\n",
       "      <td>1.811667e+01</td>\n",
       "      <td>1.900000e+01</td>\n",
       "      <td>1.286144e+01</td>\n",
       "    </tr>\n",
       "    <tr>\n",
       "      <th>max</th>\n",
       "      <td>2025-02-01 00:00:44</td>\n",
       "      <td>2025-02-01 01:10:26</td>\n",
       "      <td>9.000000e+00</td>\n",
       "      <td>1.500000e+01</td>\n",
       "      <td>2.650000e+02</td>\n",
       "      <td>2.650000e+02</td>\n",
       "      <td>3.485000e+01</td>\n",
       "      <td>8.000000e+00</td>\n",
       "      <td>6.500000e+00</td>\n",
       "      <td>1.500000e+01</td>\n",
       "      <td>1.000000e+01</td>\n",
       "      <td>1.000000e+00</td>\n",
       "      <td>7.435000e+01</td>\n",
       "      <td>2.500000e+00</td>\n",
       "      <td>1.750000e+00</td>\n",
       "      <td>7.500000e-01</td>\n",
       "      <td>8.721833e+02</td>\n",
       "      <td>2.300000e+01</td>\n",
       "      <td>9.931034e+01</td>\n",
       "    </tr>\n",
       "    <tr>\n",
       "      <th>std</th>\n",
       "      <td>NaN</td>\n",
       "      <td>NaN</td>\n",
       "      <td>7.485474e-01</td>\n",
       "      <td>3.578197e+00</td>\n",
       "      <td>6.294503e+01</td>\n",
       "      <td>6.884985e+01</td>\n",
       "      <td>9.131802e+00</td>\n",
       "      <td>1.848583e+00</td>\n",
       "      <td>4.617609e-02</td>\n",
       "      <td>3.274890e+00</td>\n",
       "      <td>1.814281e+00</td>\n",
       "      <td>1.118461e-01</td>\n",
       "      <td>1.316247e+01</td>\n",
       "      <td>6.353368e-01</td>\n",
       "      <td>4.629458e-01</td>\n",
       "      <td>3.577037e-01</td>\n",
       "      <td>1.210919e+01</td>\n",
       "      <td>5.524343e+00</td>\n",
       "      <td>5.955561e+00</td>\n",
       "    </tr>\n",
       "  </tbody>\n",
       "</table>\n",
       "</div>"
      ],
      "text/plain": [
       "             tpep_pickup_datetime       tpep_dropoff_datetime  \\\n",
       "count                     2835971                     2835971   \n",
       "mean   2025-01-17 02:32:57.628319  2025-01-17 02:47:33.780492   \n",
       "min           2024-12-31 20:47:55         2024-12-31 20:54:00   \n",
       "25%           2025-01-09 16:24:50         2025-01-09 16:41:40   \n",
       "50%           2025-01-16 21:10:43         2025-01-16 21:24:13   \n",
       "75%           2025-01-24 17:32:55         2025-01-24 17:48:37   \n",
       "max           2025-02-01 00:00:44         2025-02-01 01:10:26   \n",
       "std                           NaN                         NaN   \n",
       "\n",
       "       passenger_count  trip_distance  PULocationID  DOLocationID  \\\n",
       "count     2.835971e+06   2.835971e+06  2.835971e+06  2.835971e+06   \n",
       "mean      1.295747e+00   2.996292e+00  1.670813e+02  1.661654e+02   \n",
       "min       0.000000e+00   1.000000e-02  1.000000e+00  1.000000e+00   \n",
       "25%       1.000000e+00   9.900000e-01  1.320000e+02  1.160000e+02   \n",
       "50%       1.000000e+00   1.630000e+00  1.620000e+02  1.630000e+02   \n",
       "75%       1.000000e+00   3.000000e+00  2.340000e+02  2.360000e+02   \n",
       "max       9.000000e+00   1.500000e+01  2.650000e+02  2.650000e+02   \n",
       "std       7.485474e-01   3.578197e+00  6.294503e+01  6.884985e+01   \n",
       "\n",
       "        fare_amount         extra       mta_tax    tip_amount  tolls_amount  \\\n",
       "count  2.835971e+06  2.835971e+06  2.835971e+06  2.835971e+06  2.835971e+06   \n",
       "mean   1.539900e+01  1.601660e+00  4.957700e-01  3.400442e+00  4.895062e-01   \n",
       "min    1.000000e-02  0.000000e+00  0.000000e+00  0.000000e+00  0.000000e+00   \n",
       "25%    8.600000e+00  0.000000e+00  5.000000e-01  1.340000e+00  0.000000e+00   \n",
       "50%    1.210000e+01  1.000000e+00  5.000000e-01  2.890000e+00  0.000000e+00   \n",
       "75%    1.910000e+01  2.500000e+00  5.000000e-01  4.260000e+00  0.000000e+00   \n",
       "max    3.485000e+01  8.000000e+00  6.500000e+00  1.500000e+01  1.000000e+01   \n",
       "std    9.131802e+00  1.848583e+00  4.617609e-02  3.274890e+00  1.814281e+00   \n",
       "\n",
       "       improvement_surcharge  total_amount  congestion_surcharge  \\\n",
       "count           2.835971e+06  2.835971e+06          2.835971e+06   \n",
       "mean            9.873299e-01  2.532029e+01          2.326498e+00   \n",
       "min             0.000000e+00  1.010000e+00          0.000000e+00   \n",
       "25%             1.000000e+00  1.650000e+01          2.500000e+00   \n",
       "50%             1.000000e+00  2.106000e+01          2.500000e+00   \n",
       "75%             1.000000e+00  2.910000e+01          2.500000e+00   \n",
       "max             1.000000e+00  7.435000e+01          2.500000e+00   \n",
       "std             1.118461e-01  1.316247e+01          6.353368e-01   \n",
       "\n",
       "        Airport_fee  cbd_congestion_fee  trip_duration   hour_of_day  \\\n",
       "count  2.835971e+06        2.835971e+06   2.835971e+06  2.835971e+06   \n",
       "mean   1.325001e-01        4.875748e-01   1.460254e+01  1.438428e+01   \n",
       "min    0.000000e+00        0.000000e+00   3.333333e-02  0.000000e+00   \n",
       "25%    0.000000e+00        0.000000e+00   7.066667e+00  1.100000e+01   \n",
       "50%    0.000000e+00        7.500000e-01   1.135000e+01  1.500000e+01   \n",
       "75%    0.000000e+00        7.500000e-01   1.811667e+01  1.900000e+01   \n",
       "max    1.750000e+00        7.500000e-01   8.721833e+02  2.300000e+01   \n",
       "std    4.629458e-01        3.577037e-01   1.210919e+01  5.524343e+00   \n",
       "\n",
       "       avg_speed_mph  \n",
       "count   2.835971e+06  \n",
       "mean    1.107018e+01  \n",
       "min     1.000000e+00  \n",
       "25%     7.306273e+00  \n",
       "50%     9.513213e+00  \n",
       "75%     1.286144e+01  \n",
       "max     9.931034e+01  \n",
       "std     5.955561e+00  "
      ]
     },
     "execution_count": 12,
     "metadata": {},
     "output_type": "execute_result"
    }
   ],
   "source": [
    "df.describe()"
   ]
  },
  {
   "cell_type": "markdown",
   "id": "963605c4",
   "metadata": {},
   "source": [
    "### 6.2 Time-Based Analysis"
   ]
  },
  {
   "cell_type": "code",
   "execution_count": 13,
   "id": "3cc32fb1",
   "metadata": {},
   "outputs": [
    {
     "data": {
      "image/png": "[encoded data removed]",
      "text/plain": [
       "<Figure size 640x480 with 2 Axes>"
      ]
     },
     "metadata": {},
     "output_type": "display_data"
    }
   ],
   "source": [
    "pivot_volume = df.pivot_table(index='hour_of_day', columns='day_of_week', values='VendorID', aggfunc='count')[day_order]\n",
    "sns.heatmap(pivot_volume, cmap='viridis', linewidths=0.5)\n",
    "plt.title('Trip Volume by Hour and Day (Jan 2025)')\n",
    "plt.xlabel('Day of Week')\n",
    "plt.ylabel('Hour of Day')\n",
    "plt.show()"
   ]
  },
  {
   "cell_type": "markdown",
   "id": "9a705a7a",
   "metadata": {},
   "source": [
    "### 6.3 Revenue Analysis"
   ]
  },
  {
   "cell_type": "code",
   "execution_count": 14,
   "id": "3f5cfb4f",
   "metadata": {},
   "outputs": [
    {
     "data": {
      "image/png": "[encoded data removed]",
      "text/plain": [
       "<Figure size 640x480 with 2 Axes>"
      ]
     },
     "metadata": {},
     "output_type": "display_data"
    },
    {
     "name": "stdout",
     "output_type": "stream",
     "text": [
      "Average fare per mile: $5.14\n"
     ]
    }
   ],
   "source": [
    "pivot_revenue = df.pivot_table(index='hour_of_day', columns='day_of_week', values='total_amount', aggfunc='sum')[day_order]\n",
    "sns.heatmap(pivot_revenue, cmap='magma', linewidths=0.5)\n",
    "plt.title('Revenue by Hour and Day (Jan 2025)')\n",
    "plt.xlabel('Day of Week')\n",
    "plt.ylabel('Hour of Day')\n",
    "plt.show()\n",
    "\n",
    "fare_per_mile = round(df['fare_amount'].sum() / df['trip_distance'].sum(), 2)\n",
    "print(f\"Average fare per mile: ${fare_per_mile}\")"
   ]
  },
  {
   "cell_type": "markdown",
   "id": "7e7aa6c7",
   "metadata": {},
   "source": [
    "### 6.4 Passenger Behavior"
   ]
  },
  {
   "cell_type": "code",
   "execution_count": 15,
   "id": "ad75f287",
   "metadata": {},
   "outputs": [
    {
     "name": "stdout",
     "output_type": "stream",
     "text": [
      "passenger_count\n",
      "1.0    2247239\n",
      "2.0     393368\n",
      "3.0      87709\n",
      "4.0      54703\n",
      "5.0      17540\n",
      "6.0      11834\n",
      "Name: count, dtype: int64\n",
      "passenger_count\n",
      "1.0    2.91\n",
      "2.0    3.42\n",
      "3.0    3.26\n",
      "4.0    3.52\n",
      "5.0    2.81\n",
      "6.0    2.91\n",
      "Name: trip_distance, dtype: float64\n"
     ]
    }
   ],
   "source": [
    "df = df[df['passenger_count'].between(1, 6)]\n",
    "print(df['passenger_count'].value_counts())\n",
    "print(df.groupby('passenger_count')['trip_distance'].mean().round(2))"
   ]
  },
  {
   "cell_type": "markdown",
   "id": "713510af",
   "metadata": {},
   "source": [
    "### 6.5 Payment Type Analysis"
   ]
  },
  {
   "cell_type": "code",
   "execution_count": 16,
   "id": "11e2b536",
   "metadata": {},
   "outputs": [
    {
     "data": {
      "image/png": "[encoded data removed]",
      "text/plain": [
       "<Figure size 640x480 with 1 Axes>"
      ]
     },
     "metadata": {},
     "output_type": "display_data"
    }
   ],
   "source": [
    "payment_counts = df['payment_type'].value_counts()\n",
    "sns.barplot(x=payment_counts.index, y=payment_counts.values)\n",
    "plt.title('Payment Type Distribution (Jan 2025)')\n",
    "plt.xlabel('Payment Type')\n",
    "plt.ylabel('Number of Trips')\n",
    "plt.xticks(rotation=45)\n",
    "plt.show()"
   ]
  },
  {
   "cell_type": "markdown",
   "id": "3f542478",
   "metadata": {},
   "source": [
    "### 6.6 Tip Analysis by Payment Method (NEW)"
   ]
  },
  {
   "cell_type": "code",
   "execution_count": 17,
   "id": "51de212d",
   "metadata": {},
   "outputs": [
    {
     "name": "stdout",
     "output_type": "stream",
     "text": [
      "payment_type\n",
      "Cash         0.00\n",
      "Credit       3.98\n",
      "Dispute      0.01\n",
      "No charge    0.00\n",
      "Name: tip_amount, dtype: float64\n"
     ]
    },
    {
     "name": "stderr",
     "output_type": "stream",
     "text": [
      "C:\\Users\\Hp 745 - G6\\AppData\\Local\\Temp\\ipykernel_10140\\1648959283.py:3: FutureWarning: \n",
      "\n",
      "Passing `palette` without assigning `hue` is deprecated and will be removed in v0.14.0. Assign the `x` variable to `hue` and set `legend=False` for the same effect.\n",
      "\n",
      "  sns.barplot(x=tip_by_type.index, y=tip_by_type.values, palette='muted')\n"
     ]
    },
    {
     "data": {
      "image/png": "[encoded data removed]",
      "text/plain": [
       "<Figure size 640x480 with 1 Axes>"
      ]
     },
     "metadata": {},
     "output_type": "display_data"
    }
   ],
   "source": [
    "tip_by_type = df.groupby('payment_type')['tip_amount'].mean().round(2)\n",
    "print(tip_by_type)\n",
    "sns.barplot(x=tip_by_type.index, y=tip_by_type.values, palette='muted')\n",
    "plt.title('Average Tip by Payment Type')\n",
    "plt.xlabel('Payment Method')\n",
    "plt.ylabel('Average Tip ($)')\n",
    "plt.xticks(rotation=45)\n",
    "plt.show()"
   ]
  },
  {
   "cell_type": "markdown",
   "id": "c5b0d39f",
   "metadata": {},
   "source": [
    "### 6.7 Trip Characteristics"
   ]
  },
  {
   "cell_type": "code",
   "execution_count": 18,
   "id": "568c2343",
   "metadata": {},
   "outputs": [
    {
     "name": "stdout",
     "output_type": "stream",
     "text": [
      "count    2.812393e+06\n",
      "mean     3.001046e+00\n",
      "std      3.583172e+00\n",
      "min      1.000000e-02\n",
      "25%      9.900000e-01\n",
      "50%      1.630000e+00\n",
      "75%      3.000000e+00\n",
      "max      1.500000e+01\n",
      "Name: trip_distance, dtype: float64\n"
     ]
    },
    {
     "data": {
      "image/png": "[encoded data removed]",
      "text/plain": [
       "<Figure size 640x480 with 1 Axes>"
      ]
     },
     "metadata": {},
     "output_type": "display_data"
    },
    {
     "name": "stdout",
     "output_type": "stream",
     "text": [
      "                VendorID tpep_pickup_datetime tpep_dropoff_datetime  \\\n",
      "2835943    Curb Mobility  2025-01-31 23:00:18   2025-01-31 23:42:51   \n",
      "2835941  Creative Mobile  2025-01-31 23:15:52   2025-02-01 00:03:08   \n",
      "812954     Curb Mobility  2025-01-10 17:04:33   2025-01-10 18:04:08   \n",
      "388337     Curb Mobility  2025-01-05 20:16:17   2025-01-05 20:55:18   \n",
      "388340   Creative Mobile  2025-01-05 20:49:42   2025-01-05 21:30:33   \n",
      "\n",
      "         passenger_count  trip_distance  fare_amount  total_amount  \\\n",
      "2835943              1.0           15.0        34.85         55.60   \n",
      "2835941              1.0           15.0        34.85         61.35   \n",
      "812954               1.0           15.0        34.85         67.54   \n",
      "388337               1.0           15.0        34.85         63.29   \n",
      "388340               1.0           15.0        34.85         68.29   \n",
      "\n",
      "         PULocationID  DOLocationID  \n",
      "2835943           132           143  \n",
      "2835941           132           142  \n",
      "812954            132           237  \n",
      "388337            132           224  \n",
      "388340            132            50  \n"
     ]
    }
   ],
   "source": [
    "print(df['trip_distance'].describe())\n",
    "sns.histplot(df['trip_distance'], bins=50, kde=True)\n",
    "plt.title('Trip Distance Distribution (Jan 2025)')\n",
    "plt.xlabel('Distance (miles)')\n",
    "plt.ylabel('Frequency')\n",
    "plt.xlim(0, df['trip_distance'].quantile(0.99))\n",
    "plt.show()\n",
    "top5_trips = df.sort_values('trip_distance', ascending=False).head(5)\n",
    "print(top5_trips[['VendorID','tpep_pickup_datetime','tpep_dropoff_datetime','passenger_count','trip_distance','fare_amount','total_amount','PULocationID','DOLocationID']])"
   ]
  },
  {
   "cell_type": "markdown",
   "id": "f40dcd32",
   "metadata": {},
   "source": [
    "## 7. Conclusion & Next Steps\n",
    "\n",
    "- We cleaned the data thoroughly—handled missing, negative, zero, and outlier values (IQR kept exactly).  \n",
    "- Feature engineering added trip duration, average speed, and time breakdowns.  \n",
    "- We mapped pickup/dropoff zones, identified high-volume areas and borough distribution.  \n",
    "- EDA showed clear patterns: peak hours, revenue trends, and passenger/payment behaviors.  \n",
    "- Tip behavior varies by payment method—revealing interesting customer preferences.\n",
    "\n",
    "**Next steps:**  \n",
    "- Add a summary of business implications (e.g., resource allocation, pricing strategies).  \n",
    "- Optionally combine multiple months, or compare with Green Taxi.  \n",
    "- Explore geo heatmaps or integrate weather/events for deeper insight.\n",
    "\n",
    "Great work! This notebook is now fully aligned with the project guide and highly portfolio-ready."
   ]
  }
 ],
 "metadata": {
  "kernelspec": {
   "display_name": "Python 3",
   "name": "python3"
  },
  "language_info": {
   "name": "python",
   "version": "3.13.5"
  }
 },
 "nbformat": 4,
 "nbformat_minor": 5
}

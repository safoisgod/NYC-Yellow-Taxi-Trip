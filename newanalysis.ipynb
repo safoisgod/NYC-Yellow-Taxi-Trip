{
 "cells": [
  {
   "cell_type": "markdown",
   "metadata": {},
   "source": [
    "# Yellow Taxi Trip Analysis (Jan 2025)\n",
    "\n",
    "This notebook analyzes NYC Yellow Taxi Trip data for January 2025, sourced from the NYC TLC. The analysis covers trip details such as pickup/dropoff times, distances, fares, passenger behavior, payment methods, and location zones. \n",
    "\n",
    "Refer to the data dictionary: `data_dictionary_trip_records_yellow.pdf` or [NYC TLC](http://www.nyc.gov/html/tlc/html/about/trip_record_data.shtml) for column definitions."
   ]
  },
  {
   "cell_type": "code",
   "execution_count": 1,
   "metadata": {},
   "outputs": [],
   "source": [
    "# Import libraries for data analysis and visualization\n",
    "import pandas as pd\n",
    "import matplotlib.pyplot as plt\n",
    "import numpy as np\n",
    "import seaborn as sns\n",
    "\n",
    "# Apply seaborn style for improved visualization aesthetics\n",
    "plt.style.use('seaborn')"
   ]
  },
  {
   "cell_type": "markdown",
   "metadata": {},
   "source": [
    "## 1. Data Loading and Initial Preview\n",
    "\n",
    "Load the dataset and display the first few rows to understand its structure."
   ]
  },
  {
   "cell_type": "code",
   "execution_count": 2,
   "metadata": {},
   "outputs": [],
   "source": [
    "df = pd.read_parquet(r\"data\\yellow_tripdata_2025-01.parquet\", engine=\"pyarrow\")",
    "df.head()"
   ]
  },
  {
   "cell_type": "markdown",
   "metadata": {},
   "source": [
    "## 2. Data Inspection\n",
    "\n",
    "Check column types and counts."
   ]
  },
  {
   "cell_type": "code",
   "execution_count": 3,
   "metadata": {},
   "outputs": [],
   "source": [
    "df.info()"
   ]
  },
  {
   "cell_type": "markdown",
   "metadata": {},
   "source": [
    "## 3. Data Cleaning\n",
    "\n",
    "Handle missing, duplicates, invalid, and outlier values."
   ]
  },
  {
   "cell_type": "markdown",
   "metadata": {},
   "source": [
    "### 3.1 Missing Values\n",
    "\n",
    "Assess missing data percentages."
   ]
  },
  {
   "cell_type": "code",
   "execution_count": 4,
   "metadata": {},
   "outputs": [],
   "source": [
    "missing = df.isnull().sum()",
    "missing_pct = (missing / len(df) * 100).round(2)",
    "pd.DataFrame({\"Count\": missing, \"Percent\": missing_pct})"
   ]
  },
  {
   "cell_type": "markdown",
   "metadata": {},
   "source": [
    "**Note:** `passenger_count` and `RatecodeID` have ~15% missing—consider imputation later."
   ]
  },
  {
   "cell_type": "markdown",
   "metadata": {},
   "source": [
    "### 3.2 Duplicates"
   ]
  },
  {
   "cell_type": "code",
   "execution_count": 5,
   "metadata": {},
   "outputs": [],
   "source": [
    "print(f\"Duplicates found: {df.duplicated().sum()}\")"
   ]
  },
  {
   "cell_type": "markdown",
   "metadata": {},
   "source": [
    "### 3.3 Negative Values\n",
    "\n",
    "Remove rows with any negative numeric values."
   ]
  },
  {
   "cell_type": "code",
   "execution_count": 6,
   "metadata": {},
   "outputs": [],
   "source": [
    "numeric_cols = df.select_dtypes(include=[np.number]).columns",
    "for col in numeric_cols:",
    "    neg = (df[col] < 0).sum()",
    "    if neg:",
    "        print(f\"{col}: {neg} negative values\")",
    "df = df[(df[numeric_cols] >= 0).all(axis=1)]"
   ]
  },
  {
   "cell_type": "markdown",
   "metadata": {},
   "source": [
    "### 3.4 Zero Values\n",
    "\n",
    "Filter out rows where key fields are zero."
   ]
  },
  {
   "cell_type": "code",
   "execution_count": 7,
   "metadata": {},
   "outputs": [],
   "source": [
    "non_zero_cols = ['fare_amount', 'trip_distance', 'total_amount']",
    "df = df[(df[non_zero_cols] > 0).all(axis=1)]"
   ]
  },
  {
   "cell_type": "markdown",
   "metadata": {},
   "source": [
    "### 3.5 Outlier Handling (your original IQR code — unchanged)"
   ]
  },
  {
   "cell_type": "code",
   "execution_count": 8,
   "metadata": {},
   "outputs": [],
   "source": [
    "def detect_outliers(df, col):",
    "    Q1 = df[col].quantile(0.25)",
    "    Q3 = df[col].quantile(0.75)",
    "    IQR = Q3 - Q1",
    "    lower = Q1 - 1.5 * IQR",
    "    upper = Q3 + 1.5 * IQR",
    "    outliers = df[(df[col] < lower) | (df[col] > upper)]",
    "    return len(outliers), lower, upper",
    "",
    "outlier_cols = ['trip_distance', 'fare_amount']",
    "for col in outlier_cols:",
    "    count, lower, upper = detect_outliers(df, col)",
    "    print(f\"{col}: {count} outliers (lower: {lower:.2f}, upper: {upper:.2f})\")",
    "    Q1 = df[col].quantile(0.25)",
    "    Q3 = df[col].quantile(0.75)",
    "    IQR = Q3 - Q1",
    "    df = df[(df[col] >= Q1 - 1.5 * IQR) & (df[col] <= Q3 + 1.5 * IQR)]",
    "print(f\"Rows after outlier removal: {len(df)}\")"
   ]
  },
  {
   "cell_type": "markdown",
   "metadata": {},
   "source": [
    "### 3.6 Categorical Mapping\n",
    "\n",
    "Convert numeric codes into meaningful strings."
   ]
  },
  {
   "cell_type": "code",
   "execution_count": 9,
   "metadata": {},
   "outputs": [],
   "source": [
    "vendor_dict = {1: 'Creative Mobile', 2: 'Curb Mobility', 6: 'Myle Tech', 7: 'Helix'}",
    "ratecode_dict = {1: 'Standard', 2: 'JFK', 3: 'Newark', 4: 'Nassau/Westchester', 5: 'Negotiated', 6: 'Group', 99: 'Unknown'}",
    "payment_dict = {0: 'Flex Fare', 1: 'Credit', 2: 'Cash', 3: 'No charge', 4: 'Dispute', 5: 'Unknown', 6: 'Voided'}",
    "df['VendorID'] = df['VendorID'].map(vendor_dict)",
    "df['RatecodeID'] = df['RatecodeID'].map(ratecode_dict)",
    "df['payment_type'] = df['payment_type'].map(payment_dict)"
   ]
  },
  {
   "cell_type": "markdown",
   "metadata": {},
   "source": [
    "## 4. Feature Engineering\n",
    "\n",
    "Create new columns for trip duration, day/hour information, and speed."
   ]
  },
  {
   "cell_type": "code",
   "execution_count": 10,
   "metadata": {},
   "outputs": [],
   "source": [
    "df['trip_duration'] = (df['tpep_dropoff_datetime'] - df['tpep_pickup_datetime']).dt.total_seconds() / 60",
    "df['day_of_week'] = df['tpep_pickup_datetime'].dt.day_name()",
    "df['hour_of_day'] = df['tpep_pickup_datetime'].dt.hour",
    "day_order = ['Monday', 'Tuesday', 'Wednesday', 'Thursday', 'Friday', 'Saturday', 'Sunday']",
    "",
    "# New: average speed (mph)",
    "df['avg_speed_mph'] = df['trip_distance'] / (df['trip_duration'] / 60)",
    "# Flag unrealistic speeds",
    "speed_outliers = df[(df['avg_speed_mph'] > 100) | (df['avg_speed_mph'] < 1)]",
    "print(f\"Unrealistic speed trips: {len(speed_outliers)}\")",
    "# Optionally remove them",
    "df = df[(df['avg_speed_mph'] <= 100) & (df['avg_speed_mph'] >= 1)]",
    "print(f\"Avg speed (mph): {df['avg_speed_mph'].mean().round(2)}\")"
   ]
  },
  {
   "cell_type": "markdown",
   "metadata": {},
   "source": [
    "## 5. Location Zone Analysis (NEW)\n",
    "\n",
    "Map pickup/dropoff IDs to boroughs and zones, then explore hotspots."
   ]
  },
  {
   "cell_type": "code",
   "execution_count": 11,
   "metadata": {},
   "outputs": [],
   "source": [
    "zone_lookup = pd.read_csv('data/taxi+_zone_lookup.csv')",
    "df = df.merge(zone_lookup.rename(columns={'LocationID':'PULocationID','Zone':'PU_Zone','Borough':'PU_Borough'}), on='PULocationID', how='left')",
    "df = df.merge(zone_lookup.rename(columns={'LocationID':'DOLocationID','Zone':'DO_Zone','Borough':'DO_Borough'}), on='DOLocationID', how='left')",
    "",
    "# Top 10 pickup zones by frequency",
    "top_pu_zones = df['PU_Zone'].value_counts().head(10)",
    "print(top_pu_zones)",
    "",
    "plt.figure(figsize=(10,5))",
    "sns.barplot(x=top_pu_zones.values, y=top_pu_zones.index, palette='crest')",
    "plt.title('Top 10 Pickup Zones (Jan 2025)')",
    "plt.xlabel('Number of Trips')",
    "plt.ylabel('Pickup Zone')",
    "plt.show()",
    "",
    "# Borough pickup distribution",
    "borough_counts = df['PU_Borough'].value_counts()",
    "print(borough_counts)",
    "",
    "plt.figure(figsize=(6,6))",
    "plt.pie(borough_counts, labels=borough_counts.index, autopct='%1.1f%%', startangle=140)",
    "plt.title('Pickup Distribution by Borough (Jan 2025)')",
    "plt.axis('equal')",
    "plt.show()"
   ]
  },
  {
   "cell_type": "markdown",
   "metadata": {},
   "source": [
    "## 6. Exploratory Data Analysis (EDA)\n",
    "\n",
    "Analyze the cleaned and enriched dataset."
   ]
  },
  {
   "cell_type": "markdown",
   "metadata": {},
   "source": [
    "### 6.1 Statistical Summary"
   ]
  },
  {
   "cell_type": "code",
   "execution_count": 12,
   "metadata": {},
   "outputs": [],
   "source": [
    "df.describe()"
   ]
  },
  {
   "cell_type": "markdown",
   "metadata": {},
   "source": [
    "### 6.2 Time-Based Analysis"
   ]
  },
  {
   "cell_type": "code",
   "execution_count": 13,
   "metadata": {},
   "outputs": [],
   "source": [
    "pivot_volume = df.pivot_table(index='hour_of_day', columns='day_of_week', values='VendorID', aggfunc='count')[day_order]",
    "sns.heatmap(pivot_volume, cmap='viridis', linewidths=0.5)",
    "plt.title('Trip Volume by Hour and Day (Jan 2025)')",
    "plt.xlabel('Day of Week')",
    "plt.ylabel('Hour of Day')",
    "plt.show()"
   ]
  },
  {
   "cell_type": "markdown",
   "metadata": {},
   "source": [
    "### 6.3 Revenue Analysis"
   ]
  },
  {
   "cell_type": "code",
   "execution_count": 14,
   "metadata": {},
   "outputs": [],
   "source": [
    "pivot_revenue = df.pivot_table(index='hour_of_day', columns='day_of_week', values='total_amount', aggfunc='sum')[day_order]",
    "sns.heatmap(pivot_revenue, cmap='magma', linewidths=0.5)",
    "plt.title('Revenue by Hour and Day (Jan 2025)')",
    "plt.xlabel('Day of Week')",
    "plt.ylabel('Hour of Day')",
    "plt.show()",
    "",
    "fare_per_mile = round(df['fare_amount'].sum() / df['trip_distance'].sum(), 2)",
    "print(f\"Average fare per mile: ${fare_per_mile}\")"
   ]
  },
  {
   "cell_type": "markdown",
   "metadata": {},
   "source": [
    "### 6.4 Passenger Behavior"
   ]
  },
  {
   "cell_type": "code",
   "execution_count": 15,
   "metadata": {},
   "outputs": [],
   "source": [
    "df = df[df['passenger_count'].between(1, 6)]",
    "print(df['passenger_count'].value_counts())",
    "print(df.groupby('passenger_count')['trip_distance'].mean().round(2))"
   ]
  },
  {
   "cell_type": "markdown",
   "metadata": {},
   "source": [
    "### 6.5 Payment Type Analysis"
   ]
  },
  {
   "cell_type": "code",
   "execution_count": 16,
   "metadata": {},
   "outputs": [],
   "source": [
    "payment_counts = df['payment_type'].value_counts()",
    "sns.barplot(x=payment_counts.index, y=payment_counts.values)",
    "plt.title('Payment Type Distribution (Jan 2025)')",
    "plt.xlabel('Payment Type')",
    "plt.ylabel('Number of Trips')",
    "plt.xticks(rotation=45)",
    "plt.show()"
   ]
  },
  {
   "cell_type": "markdown",
   "metadata": {},
   "source": [
    "### 6.6 Tip Analysis by Payment Method (NEW)"
   ]
  },
  {
   "cell_type": "code",  
   "execution_count": 17,
   "metadata": {},
   "outputs": [],
   "source": [
    "tip_by_type = df.groupby('payment_type')['tip_amount'].mean().round(2)",
    "print(tip_by_type)",
    "sns.barplot(x=tip_by_type.index, y=tip_by_type.values, palette='muted')",
    "plt.title('Average Tip by Payment Type')",
    "plt.xlabel('Payment Method')",
    "plt.ylabel('Average Tip ($)')",
    "plt.xticks(rotation=45)",
    "plt.show()"
   ]
  },
  {
   "cell_type": "markdown",
   "metadata": {},
   "source": [
    "### 6.7 Trip Characteristics"
   ]
  },
  {
   "cell_type": "code",
   "execution_count": 18,
   "metadata": {},
   "outputs": [],
   "source": [
    "print(df['trip_distance'].describe())",
    "sns.histplot(df['trip_distance'], bins=50, kde=True)",
    "plt.title('Trip Distance Distribution (Jan 2025)')",
    "plt.xlabel('Distance (miles)')",
    "plt.ylabel('Frequency')",
    "plt.xlim(0, df['trip_distance'].quantile(0.99))",
    "plt.show()",
    "top5_trips = df.sort_values('trip_distance', ascending=False).head(5)",
    "print(top5_trips[['VendorID','tpep_pickup_datetime','tpep_dropoff_datetime','passenger_count','trip_distance','fare_amount','total_amount','PULocationID','DOLocationID']])"
   ]
  },
  {
   "cell_type": "markdown",
   "metadata": {},
   "source": [
    "## 7. Conclusion & Next Steps\n",
    "\n",
    "- We cleaned the data thoroughly—handled missing, negative, zero, and outlier values (IQR kept exactly).  \n",
    "- Feature engineering added trip duration, average speed, and time breakdowns.  \n",
    "- We mapped pickup/dropoff zones, identified high-volume areas and borough distribution.  \n",
    "- EDA showed clear patterns: peak hours, revenue trends, and passenger/payment behaviors.  \n",
    "- Tip behavior varies by payment method—revealing interesting customer preferences.\n",
    "\n",
    "**Next steps:**  \n",
    "- Add a summary of business implications (e.g., resource allocation, pricing strategies).  \n",
    "- Optionally combine multiple months, or compare with Green Taxi.  \n",
    "- Explore geo heatmaps or integrate weather/events for deeper insight.\n",
    "\n",
    "Great work! This notebook is now fully aligned with the project guide and highly portfolio-ready."
   ]
  }
 ],
 "metadata": {
  "kernelspec": { "display_name": "Python 3", "name": "python3" },
  "language_info": { "name": "python", "version": "3.13.5" }
 }
}
